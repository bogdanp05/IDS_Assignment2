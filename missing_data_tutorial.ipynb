{
 "cells": [
  {
   "cell_type": "markdown",
   "metadata": {},
   "source": [
    "# Preprocess missing data using Pandas for Python"
   ]
  },
  {
   "cell_type": "code",
   "execution_count": null,
   "metadata": {
    "collapsed": true
   },
   "outputs": [],
   "source": [
    "import pandas as pd\n",
    "import matplotlib.pyplot as plt"
   ]
  },
  {
   "cell_type": "code",
   "execution_count": null,
   "metadata": {},
   "outputs": [],
   "source": [
    "df = pd.read_csv(\"titanic_original.csv\")\n",
    "print(df.head(20))"
   ]
  },
  {
   "cell_type": "markdown",
   "metadata": {},
   "source": [
    "# Visualize missing data"
   ]
  },
  {
   "cell_type": "code",
   "execution_count": null,
   "metadata": {},
   "outputs": [],
   "source": [
    "# Dictionary with amount of NaN per column\n",
    "\n",
    "columns = df.columns\n",
    "D = {}\n",
    "for i in columns:\n",
    "    D[str(i)] = df[i].isnull().sum()\n",
    "print(D)"
   ]
  },
  {
   "cell_type": "code",
   "execution_count": null,
   "metadata": {},
   "outputs": [],
   "source": [
    "# Plot missing values per column\n",
    "\n",
    "plt.bar(range(len(D)), D.values(), align='center')\n",
    "plt.xticks(range(len(D)), D.keys(),rotation='vertical')\n",
    "plt.title('Missing values per column (out of 1310 rows)')\n",
    "plt.show()"
   ]
  },
  {
   "cell_type": "markdown",
   "metadata": {},
   "source": [
    "# Basic solutions"
   ]
  },
  {
   "cell_type": "code",
   "execution_count": null,
   "metadata": {},
   "outputs": [],
   "source": [
    "# Complete-case analysis: Drop rows with a NaN value \n",
    "\n",
    "df2 = df.dropna(axis=0, how='any')\n",
    "print(df2.head(10))\n",
    "\n",
    "# --Only use if few NaNs (<5%)--"
   ]
  },
  {
   "cell_type": "markdown",
   "metadata": {},
   "source": [
    "# Single value imputation/filling"
   ]
  },
  {
   "cell_type": "code",
   "execution_count": null,
   "metadata": {},
   "outputs": [],
   "source": [
    "# Fill NaNs with mean of the column (only numerical data)\n",
    "mean_age = df['age'].mean()\n",
    "print(mean_age)\n",
    "\n",
    "df_mean = df.fillna({'age': mean_age})\n",
    "print(df_mean[['age']].head(20))\n",
    "\n"
   ]
  },
  {
   "cell_type": "code",
   "execution_count": null,
   "metadata": {},
   "outputs": [],
   "source": [
    "# Dictionary with amount of NaN per column\n",
    "columns = df_mean.columns\n",
    "D1 = {}\n",
    "for i in columns:\n",
    "    D1[str(i)] = df_mean[i].isnull().sum()\n",
    "\n",
    "# Plot missing values per column\n",
    "plt.bar(range(len(D1)), D1.values(), align='center')\n",
    "plt.xticks(range(len(D1)), D1.keys(),rotation='vertical')\n",
    "plt.title('Missing values per column (out of 1310 rows)')\n",
    "plt.show()"
   ]
  },
  {
   "cell_type": "code",
   "execution_count": null,
   "metadata": {},
   "outputs": [],
   "source": [
    "print(\"SD before mean imputation: \"+str(df['age'].std()))\n",
    "print(\"SD after mean imputation: \"+str(df_mean['age'].std()))\n",
    "\n",
    "# This is underestimating the true SD"
   ]
  },
  {
   "cell_type": "code",
   "execution_count": null,
   "metadata": {},
   "outputs": [],
   "source": [
    "# Backward filling\n",
    "df_back = df.fillna(method=\"bfill\")\n",
    "\n",
    "print(df_back[['age']].head(20))\n",
    "\n",
    "# Replicating outliers"
   ]
  },
  {
   "cell_type": "code",
   "execution_count": null,
   "metadata": {},
   "outputs": [],
   "source": [
    "# Forward filling\n",
    "df_forward = df.fillna(method=\"ffill\")\n",
    "\n",
    "print(df_forward[['age']].head(20))"
   ]
  }
 ],
 "metadata": {
  "kernelspec": {
   "display_name": "Python 3",
   "language": "python",
   "name": "python3"
  },
  "language_info": {
   "codemirror_mode": {
    "name": "ipython",
    "version": 3
   },
   "file_extension": ".py",
   "mimetype": "text/x-python",
   "name": "python",
   "nbconvert_exporter": "python",
   "pygments_lexer": "ipython3",
   "version": "3.6.0"
  }
 },
 "nbformat": 4,
 "nbformat_minor": 2
}
